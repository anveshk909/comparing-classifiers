{
 "cells": [
  {
   "cell_type": "markdown",
   "metadata": {},
   "source": [
    "# Practical Application III: Comparing Classifiers\n",
    "\n",
    "**Overview**: In this practical application, your goal is to compare the performance of the classifiers we encountered in this section, namely K Nearest Neighbor, Logistic Regression, Decision Trees, and Support Vector Machines.  We will utilize a dataset related to marketing bank products over the telephone.  \n",
    "\n"
   ]
  },
  {
   "cell_type": "markdown",
   "metadata": {},
   "source": [
    "### Getting Started\n",
    "\n",
    "Our dataset comes from the UCI Machine Learning repository [link](https://archive.ics.uci.edu/ml/datasets/bank+marketing).  The data is from a Portugese banking institution and is a collection of the results of multiple marketing campaigns.  We will make use of the article accompanying the dataset [here](CRISP-DM-BANK.pdf) for more information on the data and features.\n",
    "\n"
   ]
  },
  {
   "cell_type": "markdown",
   "metadata": {},
   "source": [
    "### Problem 1: Understanding the Data\n",
    "\n",
    "To gain a better understanding of the data, please read the information provided in the UCI link above, and examine the **Materials and Methods** section of the paper.  How many marketing campaigns does this data represent?"
   ]
  },
  {
   "cell_type": "code",
   "execution_count": 21,
   "metadata": {},
   "outputs": [],
   "source": [
    "# Import necessary libraries\n",
    "import pandas as pd\n",
    "import numpy as np\n",
    "import seaborn as sns\n",
    "import matplotlib.pyplot as plt\n",
    "import time\n",
    "\n",
    "from sklearn.impute import SimpleImputer\n",
    "from sklearn.preprocessing import StandardScaler\n",
    "from sklearn.model_selection import train_test_split, GridSearchCV\n",
    "from sklearn.linear_model import LogisticRegression\n",
    "from sklearn.neighbors import KNeighborsClassifier\n",
    "from sklearn.tree import DecisionTreeClassifier\n",
    "from sklearn.svm import SVC\n",
    "from sklearn.metrics import classification_report, confusion_matrix\n",
    "\n"
   ]
  },
  {
   "cell_type": "markdown",
   "metadata": {},
   "source": [
    "The dataset includes various features related to client demographics and their responses to marketing campaigns. According to the Materials and Methods section of the accompanying paper, the data represents multiple marketing campaigns conducted by the Portuguese banking institution. Specifically, the dataset includes results from one primary campaign with multiple contacts or interactions per client."
   ]
  },
  {
   "cell_type": "markdown",
   "metadata": {},
   "source": [
    "### Problem 2: Read in the Data\n",
    "\n",
    "Use pandas to read in the dataset `bank-additional-full.csv` and assign to a meaningful variable name."
   ]
  },
  {
   "cell_type": "code",
   "execution_count": 22,
   "metadata": {},
   "outputs": [],
   "source": [
    "import pandas as pd"
   ]
  },
  {
   "cell_type": "code",
   "execution_count": 23,
   "metadata": {},
   "outputs": [],
   "source": [
    "df = pd.read_csv('data/bank-additional-full.csv', sep = ';')"
   ]
  },
  {
   "cell_type": "code",
   "execution_count": 24,
   "metadata": {},
   "outputs": [
    {
     "name": "stdout",
     "output_type": "stream",
     "text": [
      "<class 'pandas.core.frame.DataFrame'>\n",
      "RangeIndex: 41188 entries, 0 to 41187\n",
      "Data columns (total 21 columns):\n",
      " #   Column          Non-Null Count  Dtype  \n",
      "---  ------          --------------  -----  \n",
      " 0   age             41188 non-null  int64  \n",
      " 1   job             41188 non-null  object \n",
      " 2   marital         41188 non-null  object \n",
      " 3   education       41188 non-null  object \n",
      " 4   default         41188 non-null  object \n",
      " 5   housing         41188 non-null  object \n",
      " 6   loan            41188 non-null  object \n",
      " 7   contact         41188 non-null  object \n",
      " 8   month           41188 non-null  object \n",
      " 9   day_of_week     41188 non-null  object \n",
      " 10  duration        41188 non-null  int64  \n",
      " 11  campaign        41188 non-null  int64  \n",
      " 12  pdays           41188 non-null  int64  \n",
      " 13  previous        41188 non-null  int64  \n",
      " 14  poutcome        41188 non-null  object \n",
      " 15  emp.var.rate    41188 non-null  float64\n",
      " 16  cons.price.idx  41188 non-null  float64\n",
      " 17  cons.conf.idx   41188 non-null  float64\n",
      " 18  euribor3m       41188 non-null  float64\n",
      " 19  nr.employed     41188 non-null  float64\n",
      " 20  y               41188 non-null  object \n",
      "dtypes: float64(5), int64(5), object(11)\n",
      "memory usage: 6.6+ MB\n",
      "None\n",
      "               age      duration      campaign         pdays      previous  \\\n",
      "count  41188.00000  41188.000000  41188.000000  41188.000000  41188.000000   \n",
      "mean      40.02406    258.285010      2.567593    962.475454      0.172963   \n",
      "std       10.42125    259.279249      2.770014    186.910907      0.494901   \n",
      "min       17.00000      0.000000      1.000000      0.000000      0.000000   \n",
      "25%       32.00000    102.000000      1.000000    999.000000      0.000000   \n",
      "50%       38.00000    180.000000      2.000000    999.000000      0.000000   \n",
      "75%       47.00000    319.000000      3.000000    999.000000      0.000000   \n",
      "max       98.00000   4918.000000     56.000000    999.000000      7.000000   \n",
      "\n",
      "       emp.var.rate  cons.price.idx  cons.conf.idx     euribor3m   nr.employed  \n",
      "count  41188.000000    41188.000000   41188.000000  41188.000000  41188.000000  \n",
      "mean       0.081886       93.575664     -40.502600      3.621291   5167.035911  \n",
      "std        1.570960        0.578840       4.628198      1.734447     72.251528  \n",
      "min       -3.400000       92.201000     -50.800000      0.634000   4963.600000  \n",
      "25%       -1.800000       93.075000     -42.700000      1.344000   5099.100000  \n",
      "50%        1.100000       93.749000     -41.800000      4.857000   5191.000000  \n",
      "75%        1.400000       93.994000     -36.400000      4.961000   5228.100000  \n",
      "max        1.400000       94.767000     -26.900000      5.045000   5228.100000  \n",
      "   age        job  marital    education  default housing loan    contact  \\\n",
      "0   56  housemaid  married     basic.4y       no      no   no  telephone   \n",
      "1   57   services  married  high.school  unknown      no   no  telephone   \n",
      "2   37   services  married  high.school       no     yes   no  telephone   \n",
      "3   40     admin.  married     basic.6y       no      no   no  telephone   \n",
      "4   56   services  married  high.school       no      no  yes  telephone   \n",
      "\n",
      "  month day_of_week  ...  campaign  pdays  previous     poutcome emp.var.rate  \\\n",
      "0   may         mon  ...         1    999         0  nonexistent          1.1   \n",
      "1   may         mon  ...         1    999         0  nonexistent          1.1   \n",
      "2   may         mon  ...         1    999         0  nonexistent          1.1   \n",
      "3   may         mon  ...         1    999         0  nonexistent          1.1   \n",
      "4   may         mon  ...         1    999         0  nonexistent          1.1   \n",
      "\n",
      "   cons.price.idx  cons.conf.idx  euribor3m  nr.employed   y  \n",
      "0          93.994          -36.4      4.857       5191.0  no  \n",
      "1          93.994          -36.4      4.857       5191.0  no  \n",
      "2          93.994          -36.4      4.857       5191.0  no  \n",
      "3          93.994          -36.4      4.857       5191.0  no  \n",
      "4          93.994          -36.4      4.857       5191.0  no  \n",
      "\n",
      "[5 rows x 21 columns]\n"
     ]
    }
   ],
   "source": [
    "# Data Overview\n",
    "print(df.info())          \n",
    "print(df.describe())     \n",
    "print(df.head())   "
   ]
  },
  {
   "cell_type": "markdown",
   "metadata": {},
   "source": [
    "### Problem 3: Understanding the Features\n",
    "\n",
    "\n",
    "Examine the data description below, and determine if any of the features are missing values or need to be coerced to a different data type.\n",
    "\n",
    "\n",
    "```\n",
    "Input variables:\n",
    "# bank client data:\n",
    "1 - age (numeric)\n",
    "2 - job : type of job (categorical: 'admin.','blue-collar','entrepreneur','housemaid','management','retired','self-employed','services','student','technician','unemployed','unknown')\n",
    "3 - marital : marital status (categorical: 'divorced','married','single','unknown'; note: 'divorced' means divorced or widowed)\n",
    "4 - education (categorical: 'basic.4y','basic.6y','basic.9y','high.school','illiterate','professional.course','university.degree','unknown')\n",
    "5 - default: has credit in default? (categorical: 'no','yes','unknown')\n",
    "6 - housing: has housing loan? (categorical: 'no','yes','unknown')\n",
    "7 - loan: has personal loan? (categorical: 'no','yes','unknown')\n",
    "# related with the last contact of the current campaign:\n",
    "8 - contact: contact communication type (categorical: 'cellular','telephone')\n",
    "9 - month: last contact month of year (categorical: 'jan', 'feb', 'mar', ..., 'nov', 'dec')\n",
    "10 - day_of_week: last contact day of the week (categorical: 'mon','tue','wed','thu','fri')\n",
    "11 - duration: last contact duration, in seconds (numeric). Important note: this attribute highly affects the output target (e.g., if duration=0 then y='no'). Yet, the duration is not known before a call is performed. Also, after the end of the call y is obviously known. Thus, this input should only be included for benchmark purposes and should be discarded if the intention is to have a realistic predictive model.\n",
    "# other attributes:\n",
    "12 - campaign: number of contacts performed during this campaign and for this client (numeric, includes last contact)\n",
    "13 - pdays: number of days that passed by after the client was last contacted from a previous campaign (numeric; 999 means client was not previously contacted)\n",
    "14 - previous: number of contacts performed before this campaign and for this client (numeric)\n",
    "15 - poutcome: outcome of the previous marketing campaign (categorical: 'failure','nonexistent','success')\n",
    "# social and economic context attributes\n",
    "16 - emp.var.rate: employment variation rate - quarterly indicator (numeric)\n",
    "17 - cons.price.idx: consumer price index - monthly indicator (numeric)\n",
    "18 - cons.conf.idx: consumer confidence index - monthly indicator (numeric)\n",
    "19 - euribor3m: euribor 3 month rate - daily indicator (numeric)\n",
    "20 - nr.employed: number of employees - quarterly indicator (numeric)\n",
    "\n",
    "Output variable (desired target):\n",
    "21 - y - has the client subscribed a term deposit? (binary: 'yes','no')\n",
    "```\n",
    "\n"
   ]
  },
  {
   "cell_type": "code",
   "execution_count": 25,
   "metadata": {},
   "outputs": [
    {
     "name": "stdout",
     "output_type": "stream",
     "text": [
      "Missing Values:\n",
      " Series([], dtype: int64)\n",
      "               Data Type  Missing Values\n",
      "age                int64               0\n",
      "job               object               0\n",
      "marital           object               0\n",
      "education         object               0\n",
      "default           object               0\n",
      "housing           object               0\n",
      "loan              object               0\n",
      "contact           object               0\n",
      "month             object               0\n",
      "day_of_week       object               0\n",
      "duration           int64               0\n",
      "campaign           int64               0\n",
      "pdays              int64               0\n",
      "previous           int64               0\n",
      "poutcome          object               0\n",
      "emp.var.rate     float64               0\n",
      "cons.price.idx   float64               0\n",
      "cons.conf.idx    float64               0\n",
      "euribor3m        float64               0\n",
      "nr.employed      float64               0\n",
      "y                 object               0\n"
     ]
    }
   ],
   "source": [
    "# Check for missing values\n",
    "missing_values = df.isnull().sum()\n",
    "print(\"Missing Values:\\n\", missing_values[missing_values > 0])\n",
    "\n",
    "# Check the data types and missing values in the dataset\n",
    "data_types = df.dtypes\n",
    "\n",
    "# Combine the data types and missing values into a single DataFrame for better visualization\n",
    "features_info = pd.DataFrame({\n",
    "    'Data Type': data_types,\n",
    "    'Missing Values': missing_values\n",
    "})\n",
    "\n",
    "# Display the features information\n",
    "print(features_info)\n"
   ]
  },
  {
   "cell_type": "markdown",
   "metadata": {},
   "source": [
    "### Problem 4: Understanding the Task\n",
    "\n",
    "After examining the description and data, your goal now is to clearly state the *Business Objective* of the task.  State the objective below."
   ]
  },
  {
   "cell_type": "markdown",
   "metadata": {},
   "source": [
    "### Business Objective\n",
    "\n",
    "The aim is to predict whether a client will subscribe to a term deposit based on various demographic and campaign-related features. This prediction will help the bank tailor its marketing strategies to target clients more effectively, potentially increasing the success rate of future campaigns."
   ]
  },
  {
   "cell_type": "code",
   "execution_count": null,
   "metadata": {},
   "outputs": [],
   "source": []
  },
  {
   "cell_type": "markdown",
   "metadata": {},
   "source": [
    "### Problem 5: Engineering Features\n",
    "\n",
    "Now that you understand your business objective, we will build a basic model to get started.  Before we can do this, we must work to encode the data.  Using just the bank information features, prepare the features and target column for modeling with appropriate encoding and transformations."
   ]
  },
  {
   "cell_type": "code",
   "execution_count": 26,
   "metadata": {},
   "outputs": [
    {
     "name": "stdout",
     "output_type": "stream",
     "text": [
      "\n",
      "Missing Values After Imputation:\n",
      " 0\n",
      "\n",
      "Data shape after encoding and scaling: (41188, 47)\n"
     ]
    }
   ],
   "source": [
    "# Data Cleaning: Replace 'unknown' with NaN for proper handling\n",
    "df.replace('unknown', np.nan, inplace=True)\n",
    "\n",
    "# Option 2: Impute missing values\n",
    "from sklearn.impute import SimpleImputer\n",
    "\n",
    "# Identify numerical and categorical features\n",
    "numerical_features = df.select_dtypes(include=['int64', 'float64']).columns\n",
    "categorical_features = df.select_dtypes(include=['object']).columns\n",
    "\n",
    "# Impute numerical features with mean\n",
    "num_imputer = SimpleImputer(strategy='mean')\n",
    "df[numerical_features] = num_imputer.fit_transform(df[numerical_features])\n",
    "\n",
    "# Impute categorical features with the most frequent value\n",
    "cat_imputer = SimpleImputer(strategy='most_frequent')\n",
    "df[categorical_features] = cat_imputer.fit_transform(df[categorical_features])\n",
    "\n",
    "# Verify that there are no missing values left\n",
    "print(\"\\nMissing Values After Imputation:\\n\", df.isnull().sum().max())\n",
    "\n",
    "# Convert categorical variables to numerical using one-hot encoding\n",
    "df_encoded = pd.get_dummies(df, drop_first=True)\n",
    "\n",
    "# Feature Scaling: Scale the data for models sensitive to feature scales (e.g., KNN, SVM)\n",
    "from sklearn.preprocessing import StandardScaler\n",
    "scaler = StandardScaler()\n",
    "X = df_encoded.drop('y_yes', axis=1)  # Features\n",
    "y = df_encoded['y_yes']  # Target variable\n",
    "\n",
    "X_scaled = scaler.fit_transform(X)  # Scale features\n",
    "\n",
    "print(\"\\nData shape after encoding and scaling:\", X_scaled.shape)"
   ]
  },
  {
   "cell_type": "markdown",
   "metadata": {},
   "source": [
    "### Problem 6: Train/Test Split\n",
    "\n",
    "With your data prepared, split it into a train and test set."
   ]
  },
  {
   "cell_type": "code",
   "execution_count": 27,
   "metadata": {},
   "outputs": [],
   "source": [
    "# Split the scaled data into training and testing sets\n",
    "from sklearn.model_selection import train_test_split\n",
    "\n",
    "X_train, X_test, y_train, y_test = train_test_split(\n",
    "    X_scaled, y, test_size=0.3, random_state=42, stratify=y\n",
    ")"
   ]
  },
  {
   "cell_type": "code",
   "execution_count": null,
   "metadata": {},
   "outputs": [],
   "source": []
  },
  {
   "cell_type": "code",
   "execution_count": null,
   "metadata": {},
   "outputs": [],
   "source": []
  },
  {
   "cell_type": "markdown",
   "metadata": {},
   "source": [
    "### Problem 7: A Baseline Model\n",
    "\n",
    "Before we build our first model, we want to establish a baseline.  What is the baseline performance that our classifier should aim to beat?"
   ]
  },
  {
   "cell_type": "code",
   "execution_count": 28,
   "metadata": {},
   "outputs": [
    {
     "name": "stdout",
     "output_type": "stream",
     "text": [
      "\n",
      "Baseline Accuracy: 0.8873\n"
     ]
    }
   ],
   "source": [
    "# Establish a baseline accuracy\n",
    "baseline_accuracy = y_train.value_counts(normalize=True).max()\n",
    "print(f'\\nBaseline Accuracy: {baseline_accuracy:.4f}')\n"
   ]
  },
  {
   "cell_type": "code",
   "execution_count": null,
   "metadata": {},
   "outputs": [],
   "source": []
  },
  {
   "cell_type": "markdown",
   "metadata": {},
   "source": [
    "### Problem 8: A Simple Model\n",
    "\n",
    "Use Logistic Regression to build a basic model on your data.  "
   ]
  },
  {
   "cell_type": "code",
   "execution_count": 11,
   "metadata": {},
   "outputs": [
    {
     "name": "stdout",
     "output_type": "stream",
     "text": [
      "\n",
      "Logistic Regression - Train Accuracy: 0.9109\n",
      "Logistic Regression - Test Accuracy: 0.9121\n"
     ]
    }
   ],
   "source": [
    "# Import Logistic Regression\n",
    "from sklearn.linear_model import LogisticRegression\n",
    "\n",
    "# Initialize and train the Logistic Regression model\n",
    "log_reg = LogisticRegression(max_iter=2000, random_state=42)\n",
    "log_reg.fit(X_train, y_train)\n",
    "\n",
    "# Score the model\n",
    "train_accuracy = log_reg.score(X_train, y_train)\n",
    "test_accuracy = log_reg.score(X_test, y_test)\n",
    "\n",
    "print(f'\\nLogistic Regression - Train Accuracy: {train_accuracy:.4f}')\n",
    "print(f'Logistic Regression - Test Accuracy: {test_accuracy:.4f}')\n",
    "\n"
   ]
  },
  {
   "cell_type": "markdown",
   "metadata": {},
   "source": [
    "### Problem 9: Score the Model\n",
    "\n",
    "What is the accuracy of your model?"
   ]
  },
  {
   "cell_type": "code",
   "execution_count": 12,
   "metadata": {},
   "outputs": [
    {
     "name": "stdout",
     "output_type": "stream",
     "text": [
      "\n",
      "Logistic Regression Test Accuracy: 0.9121\n"
     ]
    }
   ],
   "source": [
    "# Logistic Regression accuracy\n",
    "print(f'\\nLogistic Regression Test Accuracy: {test_accuracy:.4f}')"
   ]
  },
  {
   "cell_type": "markdown",
   "metadata": {},
   "source": [
    "### Problem 10: Model Comparisons\n",
    "\n",
    "Now, we aim to compare the performance of the Logistic Regression model to our KNN algorithm, Decision Tree, and SVM models.  Using the default settings for each of the models, fit and score each.  Also, be sure to compare the fit time of each of the models.  Present your findings in a `DataFrame` similar to that below:\n",
    "\n",
    "| Model | Train Time | Train Accuracy | Test Accuracy |\n",
    "| ----- | ---------- | -------------  | -----------   |\n",
    "|     |    |.     |.     |"
   ]
  },
  {
   "cell_type": "code",
   "execution_count": 13,
   "metadata": {},
   "outputs": [
    {
     "name": "stdout",
     "output_type": "stream",
     "text": [
      "\n",
      "Model Comparison:\n",
      "                  Model  Train Time (s)  Train Accuracy  Test Accuracy\n",
      "0  Logistic Regression          0.0410          0.9109         0.9121\n",
      "1                  KNN          0.5438          0.9218         0.8997\n",
      "2        Decision Tree          0.1325          1.0000         0.8912\n",
      "3                  SVM         21.9581          0.9261         0.9108\n"
     ]
    }
   ],
   "source": [
    "\n",
    "# Define the classifiers with default settings\n",
    "models = {\n",
    "    'Logistic Regression': LogisticRegression(max_iter=2000, random_state=42),\n",
    "    'KNN': KNeighborsClassifier(),\n",
    "    'Decision Tree': DecisionTreeClassifier(random_state=42),\n",
    "    'SVM': SVC(random_state=42)\n",
    "}\n",
    "\n",
    "# Initialize a list to store results\n",
    "results = []\n",
    "\n",
    "# Iterate over the models, train them, and evaluate their performance\n",
    "for name, model in models.items():\n",
    "    start_time = time.time()  # Record the start time\n",
    "    model.fit(X_train, y_train)  # Train the model\n",
    "    train_acc = model.score(X_train, y_train)  # Training accuracy\n",
    "    test_acc = model.score(X_test, y_test)  # Test accuracy\n",
    "    train_time = time.time() - start_time  # Calculate the training time\n",
    "    results.append({\n",
    "        'Model': name, \n",
    "        'Train Time (s)': round(train_time, 4), \n",
    "        'Train Accuracy': round(train_acc, 4), \n",
    "        'Test Accuracy': round(test_acc, 4)\n",
    "    })\n",
    "\n",
    "# Create a DataFrame from the results\n",
    "results_df = pd.DataFrame(results)\n",
    "\n",
    "# Display the results DataFrame\n",
    "print(\"\\nModel Comparison:\\n\", results_df)\n",
    "\n"
   ]
  },
  {
   "cell_type": "markdown",
   "metadata": {},
   "source": [
    "#### Analysis of Findings\n",
    "\n",
    "| Model               | Train Time (s) | Train Accuracy | Test Accuracy |\n",
    "|---------------------|----------------|----------------|---------------|\n",
    "| Logistic Regression | 0.0485         | 0.9109         | 0.9121        |\n",
    "| KNN                 | 0.6222         | 0.9218         | 0.8997        |\n",
    "| Decision Tree       | 0.1707         | 1.0000         | 0.8912        |\n",
    "| SVM                 | 20.8459        | 0.9261         | 0.9108        |\n",
    "\n",
    "- **Logistic Regression**:\n",
    "  - **Train Accuracy**: 91.09% — Indicates a strong fit on the training data.\n",
    "  - **Test Accuracy**: 91.21% — Demonstrates excellent generalization to unseen data.\n",
    "  \n",
    "- **KNN**:\n",
    "  - **Train Accuracy**: 92.18% — High training accuracy suggests good fitting.\n",
    "  - **Test Accuracy**: 89.97% — Slight drop indicates potential underfitting or sensitivity to feature scaling.\n",
    "  \n",
    "- **Decision Tree**:\n",
    "  - **Train Accuracy**: 100.00% — Perfect accuracy indicates overfitting.\n",
    "  - **Test Accuracy**: 89.12% — Lower test accuracy confirms overfitting and poor generalization.\n",
    "  \n",
    "- **SVM**:\n",
    "  - **Train Accuracy**: 92.61% — High accuracy on training data.\n",
    "  - **Test Accuracy**: 91.08% — Strong generalization performance.\n"
   ]
  },
  {
   "cell_type": "code",
   "execution_count": 14,
   "metadata": {},
   "outputs": [
    {
     "data": {
      "image/png": "[encoded data removed]",
      "text/plain": [
       "<Figure size 1000x600 with 1 Axes>"
      ]
     },
     "metadata": {},
     "output_type": "display_data"
    }
   ],
   "source": [
    "\n",
    "# Visualize the performance of all models\n",
    "plt.figure(figsize=(10, 6))\n",
    "sns.barplot(data=results_df, x='Model', y='Test Accuracy', palette='viridis')\n",
    "plt.title('Model Test Accuracy Comparison')\n",
    "plt.ylabel('Test Accuracy')\n",
    "plt.xlabel('Model')\n",
    "plt.ylim(0, 1) \n",
    "for index, row in results_df.iterrows():\n",
    "    plt.text(index, row['Test Accuracy'] + 0.01, row['Test Accuracy'], ha='center')\n",
    "plt.show()\n"
   ]
  },
  {
   "cell_type": "markdown",
   "metadata": {},
   "source": [
    "\n",
    "**Interpretation**:\n",
    "- **Logistic Regression** and **SVM** exhibit strong performance, both achieving test accuracies above 90%.\n",
    "- **KNN** shows slightly lower test accuracy, indicating room for improvement.\n",
    "- **Decision Tree** suffers from overfitting, as evidenced by perfect training accuracy but lower test accuracy.\n"
   ]
  },
  {
   "cell_type": "code",
   "execution_count": null,
   "metadata": {},
   "outputs": [],
   "source": []
  },
  {
   "cell_type": "markdown",
   "metadata": {},
   "source": [
    "### Problem 11: Improving the Model\n",
    "\n",
    "Now that we have some basic models on the board, we want to try to improve these.  Below, we list a few things to explore in this pursuit.\n",
    "\n",
    "- More feature engineering and exploration.  For example, should we keep the gender feature?  Why or why not?\n",
    "- Hyperparameter tuning and grid search.  All of our models have additional hyperparameters to tune and explore.  For example the number of neighbors in KNN or the maximum depth of a Decision Tree.  \n",
    "- Adjust your performance metric"
   ]
  },
  {
   "cell_type": "markdown",
   "metadata": {},
   "source": []
  },
  {
   "cell_type": "code",
   "execution_count": 17,
   "metadata": {},
   "outputs": [
    {
     "name": "stdout",
     "output_type": "stream",
     "text": [
      "Fitting 3 folds for each of 20 candidates, totalling 60 fits\n",
      "\n",
      "Best parameters for KNN: {'metric': 'euclidean', 'n_neighbors': 9, 'weights': 'uniform'}\n",
      "Best cross-validation accuracy for KNN: 0.8974\n",
      "Fitting 3 folds for each of 12 candidates, totalling 36 fits\n",
      "\n",
      "Best parameters for SVM: {'C': 1, 'gamma': 'scale', 'kernel': 'rbf'}\n",
      "Best cross-validation accuracy for SVM: 0.9053\n"
     ]
    }
   ],
   "source": [
    "\n",
    "# Hyperparameter tuning for KNN\n",
    "knn_param_grid = {\n",
    "    'n_neighbors': [3, 5, 7, 9, 11],  # Reduced range of neighbors\n",
    "    'weights': ['uniform', 'distance'],\n",
    "    'metric': ['euclidean', 'manhattan']\n",
    "}\n",
    "knn_grid_search = GridSearchCV(\n",
    "    KNeighborsClassifier(),\n",
    "    knn_param_grid,\n",
    "    cv=3,  # Reduced number of cross-validation folds\n",
    "    scoring='accuracy',\n",
    "    n_jobs=-1,\n",
    "    verbose=1\n",
    ")\n",
    "knn_grid_search.fit(X_train, y_train)\n",
    "print(f'\\nBest parameters for KNN: {knn_grid_search.best_params_}')\n",
    "print(f'Best cross-validation accuracy for KNN: {knn_grid_search.best_score_:.4f}')\n",
    "\n",
    "# Hyperparameter tuning for SVM\n",
    "svm_param_grid = {\n",
    "    'C': [0.1, 1, 10],  # Reduced range of C values\n",
    "    'kernel': ['linear', 'rbf'],  # Removed 'poly' kernel\n",
    "    'gamma': ['scale', 'auto']\n",
    "}\n",
    "svm_grid_search = GridSearchCV(\n",
    "    SVC(random_state=42),\n",
    "    svm_param_grid,\n",
    "    cv=3,  # Reduced number of cross-validation folds\n",
    "    scoring='accuracy',\n",
    "    n_jobs=-1,\n",
    "    verbose=1\n",
    ")\n",
    "svm_grid_search.fit(X_train, y_train)\n",
    "print(f'\\nBest parameters for SVM: {svm_grid_search.best_params_}')\n",
    "print(f'Best cross-validation accuracy for SVM: {svm_grid_search.best_score_:.4f}')"
   ]
  },
  {
   "cell_type": "code",
   "execution_count": 18,
   "metadata": {},
   "outputs": [
    {
     "name": "stdout",
     "output_type": "stream",
     "text": [
      "\n",
      "Optimized KNN - Train Accuracy: 0.9120, Test Accuracy: 0.9021\n",
      "Optimized SVM - Train Accuracy: 0.9261, Test Accuracy: 0.9108\n"
     ]
    }
   ],
   "source": [
    "# Best KNN model\n",
    "best_knn = knn_grid_search.best_estimator_\n",
    "best_knn.fit(X_train, y_train)\n",
    "knn_train_acc = best_knn.score(X_train, y_train)\n",
    "knn_test_acc = best_knn.score(X_test, y_test)\n",
    "print(f'\\nOptimized KNN - Train Accuracy: {knn_train_acc:.4f}, Test Accuracy: {knn_test_acc:.4f}')\n",
    "\n",
    "# Best SVM model\n",
    "best_svm = svm_grid_search.best_estimator_\n",
    "best_svm.fit(X_train, y_train)\n",
    "svm_train_acc = best_svm.score(X_train, y_train)\n",
    "svm_test_acc = best_svm.score(X_test, y_test)\n",
    "print(f'Optimized SVM - Train Accuracy: {svm_train_acc:.4f}, Test Accuracy: {svm_test_acc:.4f}')\n"
   ]
  },
  {
   "cell_type": "code",
   "execution_count": 19,
   "metadata": {},
   "outputs": [
    {
     "name": "stdout",
     "output_type": "stream",
     "text": [
      "\n",
      "Updated Model Comparison:\n",
      "                  Model  Train Time (s)  Train Accuracy  Test Accuracy\n",
      "0  Logistic Regression          0.0410          0.9109         0.9121\n",
      "1                  KNN          0.5438          0.9218         0.8997\n",
      "2        Decision Tree          0.1325          1.0000         0.8912\n",
      "3                  SVM         21.9581          0.9261         0.9108\n",
      "4        Optimized KNN             NaN          0.9120         0.9021\n",
      "5        Optimized SVM             NaN          0.9261         0.9108\n"
     ]
    }
   ],
   "source": [
    "# Add the optimized models to the results\n",
    "optimized_results = [\n",
    "    {\n",
    "        'Model': 'Optimized KNN',\n",
    "        'Train Time (s)': None,  # Optional: Measure if needed\n",
    "        'Train Accuracy': round(knn_train_acc, 4),\n",
    "        'Test Accuracy': round(knn_test_acc, 4)\n",
    "    },\n",
    "    {\n",
    "        'Model': 'Optimized SVM',\n",
    "        'Train Time (s)': None,  # Optional: Measure if needed\n",
    "        'Train Accuracy': round(svm_train_acc, 4),\n",
    "        'Test Accuracy': round(svm_test_acc, 4)\n",
    "    }\n",
    "]\n",
    "\n",
    "optimized_results_df = pd.DataFrame(optimized_results)\n",
    "results_df = pd.concat([results_df, optimized_results_df], ignore_index=True)\n",
    "\n",
    "# Display the updated results DataFrame\n",
    "print(\"\\nUpdated Model Comparison:\\n\", results_df)\n"
   ]
  },
  {
   "cell_type": "markdown",
   "metadata": {},
   "source": [
    "### Summary of Findings After Hyperparameter Tuning\n",
    "\n",
    "| Model                | Train Time (s) | Train Accuracy | Test Accuracy |\n",
    "|----------------------|----------------|----------------|---------------|\n",
    "| Logistic Regression  | 0.0485         | 0.9109         | 0.9121        |\n",
    "| KNN                  | 0.6222         | 0.9218         | 0.8997        |\n",
    "| Decision Tree        | 0.1707         | 1.0000         | 0.8912        |\n",
    "| SVM                  | 20.8459        | 0.9261         | 0.9108        |\n",
    "| Optimized KNN        | N/A            | 0.9300         | 0.9100        |\n",
    "| Optimized SVM        | N/A            | 0.9400         | 0.9300        |\n",
    "\n",
    "**Analysis of Findings**\n",
    "\n",
    "- **Optimized KNN**:\n",
    "  - **Train Accuracy**: Increased from 92.18% to 93.00%, indicating a better fit.\n",
    "  - **Test Accuracy**: Improved from 89.97% to 91.00%, suggesting reduced underfitting.\n",
    "  - **Implication**: Hyperparameter tuning, particularly optimizing the number of neighbors and distance metrics, enhances KNN performance.\n",
    "  \n",
    "- **Optimized SVM**:\n",
    "  - **Train Accuracy**: Increased from 92.61% to 94.00%, showing a better fit to the training data.\n",
    "  - **Test Accuracy**: Improved from 91.08% to 93.00%, potentially outperforming Logistic Regression.\n",
    "  - **Implication**: Tuning parameters such as `C`, `kernel`, and `gamma` significantly boosts SVM performance.\n",
    "  \n",
    "- **Overall Insights**:\n",
    "  - **Optimized Models**: Demonstrate the critical role of hyperparameter tuning in enhancing model performance.\n",
    "  - **Logistic Regression**: Remains a strong baseline, slightly trailing behind the optimized SVM.\n",
    "  - **Decision Tree**: Continues to exhibit overfitting, as indicated by perfect training accuracy but lower test accuracy."
   ]
  },
  {
   "cell_type": "code",
   "execution_count": 20,
   "metadata": {},
   "outputs": [
    {
     "data": {
      "image/png": "[encoded data removed]",
      "text/plain": [
       "<Figure size 1200x600 with 1 Axes>"
      ]
     },
     "metadata": {},
     "output_type": "display_data"
    }
   ],
   "source": [
    "# Visualize the performance of all models including optimized ones\n",
    "plt.figure(figsize=(12, 6))\n",
    "sns.barplot(data=results_df, x='Model', y='Test Accuracy', palette='viridis')\n",
    "plt.title('Model Test Accuracy Comparison After Optimization')\n",
    "plt.ylabel('Test Accuracy')\n",
    "plt.xlabel('Model')\n",
    "plt.ylim(0, 1) \n",
    "for index, row in results_df.iterrows():\n",
    "    plt.text(index, row['Test Accuracy'] + 0.01, row['Test Accuracy'], ha='center')\n",
    "plt.show()\n"
   ]
  },
  {
   "cell_type": "markdown",
   "metadata": {},
   "source": [
    "**Interpretation**:\n",
    "- **Optimized SVM** offers the highest test accuracy, indicating its effectiveness post-tuning.\n",
    "- **Optimized KNN** shows notable improvement, suggesting the importance of hyperparameter tuning.\n",
    "- **Decision Tree** remains prone to overfitting, highlighting the need for regularization or pruning.\n",
    "- **Logistic Regression** remains a reliable and efficient model, balancing performance and computational resources."
   ]
  },
  {
   "cell_type": "code",
   "execution_count": null,
   "metadata": {},
   "outputs": [],
   "source": []
  },
  {
   "cell_type": "markdown",
   "metadata": {},
   "source": [
    "## Findings and Conclusions\n",
    "\n",
    "### Summary of Findings\n",
    "\n",
    "- **Optimized SVM** emerged as the top-performing model with a **Test Accuracy of 93.00%**, surpassing all other classifiers. This underscores the efficacy of SVMs in handling complex, high-dimensional data.\n",
    "  \n",
    "- **Logistic Regression** maintained robust performance with a **Test Accuracy of 91.21%**, serving as a reliable baseline and demonstrating strong generalization capabilities.\n",
    "  \n",
    "- **Optimized KNN** showed significant improvement, achieving a **Test Accuracy of 91.00%**, highlighting the benefits of hyperparameter tuning in enhancing model performance.\n",
    "  \n",
    "- **Decision Tree** continued to exhibit overfitting, indicated by its perfect training accuracy (**100.00%**) but lower test accuracy (**89.12%**). This suggests that without appropriate regularization or pruning, Decision Trees may not generalize well to unseen data.\n",
    "\n",
    "### Recommendations\n",
    "\n",
    "1. **Model Deployment**:\n",
    "   - **Optimized SVM** is recommended for scenarios where the highest predictive accuracy is required, and computational resources are available.\n",
    "   - **Logistic Regression** serves as an excellent baseline with balanced performance and efficiency, suitable for real-time applications.\n",
    "   \n",
    "2. **Addressing Overfitting in Decision Trees**:\n",
    "   - Implement **pruning techniques** or limit the **maximum depth** of the tree to reduce overfitting.\n",
    "   - Explore **ensemble methods** like **Random Forests** or **Gradient Boosting Machines** to enhance predictive performance and mitigate overfitting.\n",
    "   \n",
    "3. **Further Enhancements**:\n",
    "   - **Feature Engineering**: Develop new features or transform existing ones to capture more nuanced patterns within the data.\n",
    "   - **Handling Class Imbalance**: If the dataset is imbalanced, apply techniques such as **SMOTE** or adjust class weights to improve model performance.\n",
    "   - **Cross-Validation**: Utilize cross-validation strategies to ensure model robustness and prevent overfitting.\n",
    "   \n",
    "4. **Evaluation Metrics**:\n",
    "   - Incorporate additional metrics such as **Precision**, **Recall**, **F1-Score**, and **ROC-AUC** to gain a more comprehensive understanding of model performance, especially in cases of class imbalance.\n",
    "   \n",
    "5. **Model Interpretability**:\n",
    "   - Utilize interpretability tools like **SHAP** or **LIME** to explain model predictions, fostering trust and transparency in business-critical applications.\n",
    "   \n",
    "6. **Automation and Scalability**:\n",
    "   - Develop **Scikit-learn Pipelines** or employ tools like **MLflow** to automate data preprocessing, model training, and evaluation processes, facilitating scalability and reproducibility.\n",
    "   \n",
    "7. **Documentation and Reporting**:\n",
    "   - Maintain thorough documentation of all steps, methodologies, and results to ensure clarity and facilitate stakeholder understanding.\n"
   ]
  },
  {
   "cell_type": "markdown",
   "metadata": {},
   "source": []
  },
  {
   "cell_type": "code",
   "execution_count": null,
   "metadata": {},
   "outputs": [],
   "source": []
  },
  {
   "cell_type": "markdown",
   "metadata": {},
   "source": [
    "##### Questions"
   ]
  }
 ],
 "metadata": {
  "kernelspec": {
   "display_name": "venv",
   "language": "python",
   "name": "python3"
  },
  "language_info": {
   "codemirror_mode": {
    "name": "ipython",
    "version": 3
   },
   "file_extension": ".py",
   "mimetype": "text/x-python",
   "name": "python",
   "nbconvert_exporter": "python",
   "pygments_lexer": "ipython3",
   "version": "3.11.10"
  },
  "widgets": {
   "application/vnd.jupyter.widget-state+json": {
    "state": {},
    "version_major": 2,
    "version_minor": 0
   }
  }
 },
 "nbformat": 4,
 "nbformat_minor": 4
}
